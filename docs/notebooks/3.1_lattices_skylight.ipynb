{
 "cells": [
  {
   "cell_type": "markdown",
   "metadata": {},
   "source": [
    "# Skylight\n",
    "\n",
    "This script calculates the skylight acces and the skylight blocking on the context of an envelope.\n",
    "\n",
    "It creates a sphere around the envelope and then castst a ray from each voxel to each of the points on the sphere. This ray could be blocked by the context. \n",
    "If the ray is not blocked by the context, it then also casts an inverse ray from the voxel towards. If this intersects the context, then the particular voxel blocks skylight from the context. \n",
    "\n",
    "As an iput this script takes a envelope_highres and envelope_lowres. As an output it gives a sky_shadowcasting_highres and sky_access highres lattice. "
   ]
  },
  {
   "cell_type": "markdown",
   "metadata": {},
   "source": [
    "## 0. Initialization\n",
    "Importing all necessary libraries and specifying the inputs"
   ]
  },
  {
   "cell_type": "code",
   "execution_count": 24,
   "metadata": {},
   "outputs": [],
   "source": [
    "import os\n",
    "import topogenesis as tg\n",
    "import pyvista as pv\n",
    "import trimesh as tm\n",
    "import numpy as np\n",
    "from ladybug.sunpath import Sunpath\n",
    "from scipy.interpolate import RegularGridInterpolator"
   ]
  },
  {
   "cell_type": "markdown",
   "metadata": {},
   "source": [
    "## 1. Import Meshes (context + envelope)\n",
    "\n",
    "### 1.1. Load Meshes"
   ]
  },
  {
   "cell_type": "code",
   "execution_count": 25,
   "metadata": {},
   "outputs": [
    {
     "name": "stdout",
     "output_type": "stream",
     "text": [
      "True\n"
     ]
    }
   ],
   "source": [
    "envelope_path = os.path.relpath(\"../data/compulsory_envelope.obj\")\n",
    "context_path = os.path.relpath(\"../data/immediate_context.obj\")\n",
    "\n",
    "# load the mesh from file\n",
    "envelope_mesh = tm.load(envelope_path)\n",
    "context_mesh = tm.load(context_path)\n",
    "\n",
    "# Check if the mesh is watertight\n",
    "print(envelope_mesh.is_watertight)"
   ]
  },
  {
   "cell_type": "markdown",
   "metadata": {},
   "source": [
    "### 1.2. Visualize Meshes (with pyvista)"
   ]
  },
  {
   "cell_type": "code",
   "execution_count": 26,
   "metadata": {
    "scrolled": false
   },
   "outputs": [
    {
     "data": {
      "application/vnd.jupyter.widget-view+json": {
       "model_id": "12e3ab79dd344f5a81ef20d0eed79976",
       "version_major": 2,
       "version_minor": 0
      },
      "text/plain": [
       "ViewInteractiveWidget(height=768, layout=Layout(height='auto', width='100%'), width=1024)"
      ]
     },
     "metadata": {},
     "output_type": "display_data"
    },
    {
     "data": {
      "text/plain": [
       "[(785.6075686833789, 708.1911636833788, 743.2184808333789),\n",
       " (65.08283250000001, -12.333572500000002, 22.69374465),\n",
       " (0.0, 0.0, 1.0)]"
      ]
     },
     "execution_count": 26,
     "metadata": {},
     "output_type": "execute_result"
    }
   ],
   "source": [
    "# convert trimesh to pv_mesh\n",
    "def tri_to_pv(tri_mesh):\n",
    "    faces = np.pad(tri_mesh.faces, ((0, 0),(1,0)), 'constant', constant_values=3)\n",
    "    pv_mesh = pv.PolyData(tri_mesh.vertices, faces)\n",
    "    return pv_mesh\n",
    "\n",
    "# initiating the plotter\n",
    "p = pv.Plotter(notebook=True)\n",
    "\n",
    "# adding the meshes\n",
    "p.add_mesh(tri_to_pv(envelope_mesh), color='#abd8ff')\n",
    "p.add_mesh(tri_to_pv(context_mesh), color='#aaaaaa')\n",
    "\n",
    "# plotting\n",
    "p.show(use_ipyvtk=True)"
   ]
  },
  {
   "cell_type": "markdown",
   "metadata": {},
   "source": [
    "## 2. Import Lattice (envelope)\n",
    "\n",
    "### 2.1. Load the Envelope Lattice"
   ]
  },
  {
   "cell_type": "code",
   "execution_count": 27,
   "metadata": {},
   "outputs": [],
   "source": [
    "# loading the lattice from csv\n",
    "lattice_path = os.path.relpath('../data/voxelized_envelope_lowres.csv')\n",
    "envelope_lattice = tg.lattice_from_csv(lattice_path)\n",
    "\n",
    "full_lattice = envelope_lattice * 0 + 1\n",
    "\n",
    "# loading the lattice from csv\n",
    "lattice_path = os.path.relpath('../data/voxelized_envelope_highres.csv')\n",
    "avail_lattice_highres = tg.lattice_from_csv(lattice_path)"
   ]
  },
  {
   "cell_type": "markdown",
   "metadata": {},
   "source": [
    "### 2.2. Visualize the Context Mesh + Envelope Lattice"
   ]
  },
  {
   "cell_type": "code",
   "execution_count": 28,
   "metadata": {
    "scrolled": true
   },
   "outputs": [
    {
     "data": {
      "application/vnd.jupyter.widget-view+json": {
       "model_id": "c6e49ee552174781a9aabfb928d3a830",
       "version_major": 2,
       "version_minor": 0
      },
      "text/plain": [
       "ViewInteractiveWidget(height=768, layout=Layout(height='auto', width='100%'), width=1024)"
      ]
     },
     "metadata": {},
     "output_type": "display_data"
    },
    {
     "data": {
      "text/plain": [
       "[(786.2435728937402, 708.8271678937401, 740.1044850437402),\n",
       " (65.08283250000001, -12.333572500000002, 18.94374465),\n",
       " (0.0, 0.0, 1.0)]"
      ]
     },
     "execution_count": 28,
     "metadata": {},
     "output_type": "execute_result"
    }
   ],
   "source": [
    "# convert mesh to pv_mesh\n",
    "def tri_to_pv(tri_mesh):\n",
    "    faces = np.pad(tri_mesh.faces, ((0, 0),(1,0)), 'constant', constant_values=3)\n",
    "    pv_mesh = pv.PolyData(tri_mesh.vertices, faces)\n",
    "    return pv_mesh\n",
    "\n",
    "# initiating the plotter\n",
    "p = pv.Plotter(notebook=True)\n",
    "\n",
    "# fast visualization of the lattice\n",
    "envelope_lattice.fast_vis(p)\n",
    "\n",
    "# adding the meshes\n",
    "p.add_mesh(tri_to_pv(context_mesh), color='#aaaaaa')\n",
    "\n",
    "# plotting\n",
    "p.show(use_ipyvtk=True)"
   ]
  },
  {
   "cell_type": "markdown",
   "metadata": {},
   "source": [
    "## 3. Skylight factors\n",
    "\n",
    "### 3.1. Compute Skylight Vectors"
   ]
  },
  {
   "cell_type": "code",
   "execution_count": 29,
   "metadata": {
    "tags": []
   },
   "outputs": [],
   "source": [
    "#Create a sphere to put points on that represent the sky \n",
    "sphere_mesh = tm.creation.icosphere(subdivisions=3, radius= 300.0, color=None)\n",
    "sphere_vectors = np.copy(sphere_mesh.vertices)\n",
    "sky_vectors = []\n",
    "for v in sphere_vectors:\n",
    "    if v[2] > 0.0:\n",
    "        sky_vectors.append(v)\n",
    "\n",
    "\n",
    "sky_vectors = np.array(sky_vectors)"
   ]
  },
  {
   "cell_type": "code",
   "execution_count": 30,
   "metadata": {},
   "outputs": [
    {
     "data": {
      "application/vnd.jupyter.widget-view+json": {
       "model_id": "fc0c31636c4d4e82b46ee5f36930a194",
       "version_major": 2,
       "version_minor": 0
      },
      "text/plain": [
       "ViewInteractiveWidget(height=768, layout=Layout(height='auto', width='100%'), width=1024)"
      ]
     },
     "metadata": {},
     "output_type": "display_data"
    },
    {
     "data": {
      "text/plain": [
       "[(298333.2075507564, 298333.2075507564, 343183.2075507564),\n",
       " (0.0, 0.0, 44850.0),\n",
       " (0.0, 0.0, 1.0)]"
      ]
     },
     "execution_count": 30,
     "metadata": {},
     "output_type": "execute_result"
    }
   ],
   "source": [
    "# convert mesh to pv_mesh\n",
    "def tri_to_pv(tri_mesh):\n",
    "    faces = np.pad(tri_mesh.faces, ((0, 0),(1,0)), 'constant', constant_values=3)\n",
    "    pv_mesh = pv.PolyData(tri_mesh.vertices, faces)\n",
    "    return pv_mesh\n",
    "\n",
    "\n",
    "# initiating the plotter\n",
    "p = pv.Plotter(notebook=True)\n",
    "\n",
    "# fast visualization of the lattice\n",
    "envelope_lattice.fast_vis(p)\n",
    "\n",
    "# adding the meshes\n",
    "p.add_mesh(tri_to_pv(sphere_mesh), color='#aaaaaa')\n",
    "\n",
    "# add the sun locations, color orange\n",
    "p.add_points( sky_vectors * 300, color='#0033ff')\n",
    "\n",
    "# plotting\n",
    "p.show(use_ipyvtk=True)"
   ]
  },
  {
   "cell_type": "markdown",
   "metadata": {},
   "source": [
    "## 4. Compute Intersection of Sun Rays with Context Mesh\n",
    "\n",
    "### 4.1. Preparing the List of Ray Directions and Origins"
   ]
  },
  {
   "cell_type": "code",
   "execution_count": 31,
   "metadata": {},
   "outputs": [
    {
     "name": "stdout",
     "output_type": "stream",
     "text": [
      "number of voxels to shoot rays from : (231, 3)\n",
      "number of rays per each voxel : (305, 3)\n",
      "number of rays to be shot : (70455, 3)\n"
     ]
    }
   ],
   "source": [
    "# constructing the sky direction from the sky vectors in a numpy array\n",
    "sky_dirs = np.array(sky_vectors)\n",
    "\n",
    "# exract the centroids of the envelope voxels\n",
    "full_lattice = envelope_lattice * 0 + 1\n",
    "vox_cens = full_lattice.centroids\n",
    "\n",
    "# next step we need to shoot in all of the sky directions from all of the voxels \n",
    "ray_dir = []\n",
    "ray_src = []\n",
    "for v_cen in vox_cens:\n",
    "    for s_dir in sky_dirs:\n",
    "        #if s_dir = envelope_mesh\n",
    "        ray_src.append(v_cen)\n",
    "        ray_dir.append(s_dir)\n",
    "\n",
    "# converting the list of directions and sources to numpy array\n",
    "ray_dir = np.array(ray_dir)\n",
    "ray_src = np.array(ray_src)\n",
    "\n",
    "print(\"number of voxels to shoot rays from :\",vox_cens.shape)\n",
    "print(\"number of rays per each voxel :\",sky_dirs.shape)\n",
    "print(\"number of rays to be shot :\",ray_src.shape)"
   ]
  },
  {
   "cell_type": "markdown",
   "metadata": {},
   "source": [
    "### 4.2. Computing the Intersection"
   ]
  },
  {
   "cell_type": "code",
   "execution_count": 32,
   "metadata": {},
   "outputs": [],
   "source": [
    "# computing the intersections of rays with the context from voxel to sky \n",
    "f_tri_id, f_ray_id = context_mesh.ray.intersects_id(ray_origins=ray_src, ray_directions=ray_dir, multiple_hits=False)"
   ]
  },
  {
   "cell_type": "code",
   "execution_count": 33,
   "metadata": {},
   "outputs": [],
   "source": [
    "# computing the intersections of rays with the context backwards from voxel to context \n",
    "b_tri_id, b_ray_id = context_mesh.ray.intersects_id(ray_origins=ray_src, ray_directions=-ray_dir, multiple_hits=False)"
   ]
  },
  {
   "cell_type": "markdown",
   "metadata": {},
   "source": [
    "## 5. Aggregate Simulation Result in the Sun Access Lattice\n",
    "\n",
    "### 5.1. Compute the percentage of time that each voxel sees the sun"
   ]
  },
  {
   "cell_type": "code",
   "execution_count": 34,
   "metadata": {},
   "outputs": [],
   "source": [
    "# initializing the hits list full of zeros\n",
    "f_hits = [0]*len(ray_dir)\n",
    "b_hits = [0]*len(ray_dir)\n",
    "\n",
    "for id in f_ray_id:\n",
    "    f_hits[id] = 1\n",
    "\n",
    "for id in b_ray_id:\n",
    "    if not f_hits[id]:\n",
    "        b_hits[id] = 1"
   ]
  },
  {
   "cell_type": "code",
   "execution_count": 35,
   "metadata": {
    "tags": []
   },
   "outputs": [],
   "source": [
    "sky_count = len(sky_dirs)\n",
    "vox_count = len(vox_cens)\n",
    "# initiating the list of ratio\n",
    "vox_sky_acc = []\n",
    "# iterate over the voxels\n",
    "for v_id in range(vox_count):\n",
    "    # counter for the intersection\n",
    "    int_count = 0\n",
    "    # iterate over the sun rays\n",
    "    for s_id in range(sky_count):\n",
    "        # computing the ray id from voxel id and sun id\n",
    "        r_id = s_id + v_id * sky_count \n",
    "\n",
    "        # summing the intersections\n",
    "        int_count += f_hits[r_id]\n",
    "    \n",
    "    # computing the percentage of the rays that DID NOT have \n",
    "    # an intersection (aka could see the sun)\n",
    "    sky_access =   1 - int_count/sky_count\n",
    "\n",
    "    # add the ratio to list\n",
    "    vox_sky_acc.append(sky_access)\n",
    "\n",
    "# hits = np.array(hits)\n",
    "vox_sky_acc = np.array(vox_sky_acc)"
   ]
  },
  {
   "cell_type": "markdown",
   "metadata": {},
   "source": [
    "### 5.1. Compute the shadow casting "
   ]
  },
  {
   "cell_type": "code",
   "execution_count": 36,
   "metadata": {},
   "outputs": [],
   "source": [
    "# initiating the list of ratio\n",
    "vox_sky_shadowing = []\n",
    "# iterate over the voxels\n",
    "for v_id in range(vox_count):\n",
    "    # counter for the intersection\n",
    "    int_count = 0\n",
    "    # iterate over the sun rays\n",
    "    for s_id in range(sky_count):\n",
    "        # computing the ray id from voxel id and sun id\n",
    "        r_id = s_id + v_id * sky_count \n",
    "\n",
    "        # summing the intersections\n",
    "        int_count += b_hits[r_id]\n",
    "    \n",
    "    # computing the percentage of the rays that DID NOT have an intersection\n",
    "    shadowing = int_count  /  sky_count\n",
    "    # add the ratio to list\n",
    "    vox_sky_shadowing.append(shadowing)\n",
    "    \n",
    "vox_sky_shadowing = np.array(vox_sky_shadowing)"
   ]
  },
  {
   "cell_type": "markdown",
   "metadata": {},
   "source": [
    "##### 5.2. Store sun access information in a Lattice"
   ]
  },
  {
   "cell_type": "code",
   "execution_count": 37,
   "metadata": {
    "scrolled": true
   },
   "outputs": [
    {
     "name": "stdout",
     "output_type": "stream",
     "text": [
      "[[[0.73114754 0.90163934 0.95737705]\n",
      "  [0.76065574 0.93114754 0.9704918 ]\n",
      "  [0.74098361 0.9442623  0.98032787]\n",
      "  [0.73442623 0.95737705 0.98032787]\n",
      "  [0.72459016 0.95737705 0.98360656]\n",
      "  [0.71147541 0.97377049 0.99344262]\n",
      "  [0.65901639 0.97377049 0.99672131]]\n",
      "\n",
      " [[0.67213115 0.87213115 0.9442623 ]\n",
      "  [0.7704918  0.9147541  0.96065574]\n",
      "  [0.79016393 0.93442623 0.97704918]\n",
      "  [0.79344262 0.95081967 0.97704918]\n",
      "  [0.77377049 0.94754098 0.98032787]\n",
      "  [0.75409836 0.96721311 0.99344262]\n",
      "  [0.47540984 0.98360656 0.99672131]]\n",
      "\n",
      " [[0.69508197 0.85245902 0.93114754]\n",
      "  [0.7704918  0.90163934 0.95737705]\n",
      "  [0.79672131 0.93114754 0.97377049]\n",
      "  [0.80655738 0.9442623  0.97377049]\n",
      "  [0.80983607 0.9442623  0.98032787]\n",
      "  [0.77704918 0.9704918  0.99344262]\n",
      "  [0.58360656 0.97377049 0.99672131]]\n",
      "\n",
      " [[0.71803279 0.84590164 0.92459016]\n",
      "  [0.78360656 0.89180328 0.95737705]\n",
      "  [0.81311475 0.92459016 0.96721311]\n",
      "  [0.81967213 0.93442623 0.97377049]\n",
      "  [0.82295082 0.9442623  0.97704918]\n",
      "  [0.8        0.97377049 0.99672131]\n",
      "  [0.56721311 0.97377049 0.99672131]]\n",
      "\n",
      " [[0.71803279 0.83278689 0.91803279]\n",
      "  [0.78032787 0.8852459  0.95409836]\n",
      "  [0.80983607 0.92131148 0.96393443]\n",
      "  [0.81311475 0.93442623 0.9704918 ]\n",
      "  [0.82622951 0.93770492 0.97377049]\n",
      "  [0.82295082 0.96721311 0.99672131]\n",
      "  [0.71803279 0.9704918  1.        ]]\n",
      "\n",
      " [[0.72786885 0.83278689 0.92131148]\n",
      "  [0.78360656 0.87868852 0.95081967]\n",
      "  [0.81967213 0.92131148 0.96721311]\n",
      "  [0.8295082  0.92786885 0.96721311]\n",
      "  [0.83606557 0.94098361 0.97377049]\n",
      "  [0.83278689 0.96393443 0.99672131]\n",
      "  [0.61639344 0.96721311 1.        ]]\n",
      "\n",
      " [[0.73114754 0.83934426 0.92131148]\n",
      "  [0.8        0.8852459  0.95737705]\n",
      "  [0.81639344 0.91803279 0.96721311]\n",
      "  [0.8295082  0.92786885 0.96721311]\n",
      "  [0.83934426 0.93770492 0.9704918 ]\n",
      "  [0.83278689 0.96721311 1.        ]\n",
      "  [0.78032787 0.96721311 1.        ]]\n",
      "\n",
      " [[0.73770492 0.83606557 0.91803279]\n",
      "  [0.80327869 0.88196721 0.95737705]\n",
      "  [0.8295082  0.9147541  0.96393443]\n",
      "  [0.83278689 0.92786885 0.96721311]\n",
      "  [0.84262295 0.94098361 0.97704918]\n",
      "  [0.84590164 0.96393443 0.99672131]\n",
      "  [0.81967213 0.96065574 0.99672131]]\n",
      "\n",
      " [[0.73770492 0.84262295 0.92459016]\n",
      "  [0.79672131 0.8852459  0.96065574]\n",
      "  [0.80327869 0.90819672 0.96393443]\n",
      "  [0.81967213 0.92786885 0.9704918 ]\n",
      "  [0.8295082  0.93770492 0.98032787]\n",
      "  [0.82295082 0.95081967 0.99672131]\n",
      "  [0.82295082 0.96065574 0.99672131]]\n",
      "\n",
      " [[0.73442623 0.85245902 0.93114754]\n",
      "  [0.78360656 0.88196721 0.95737705]\n",
      "  [0.79344262 0.91147541 0.9704918 ]\n",
      "  [0.79672131 0.92131148 0.97377049]\n",
      "  [0.80655738 0.93114754 0.98032787]\n",
      "  [0.81639344 0.94754098 0.99672131]\n",
      "  [0.81639344 0.95409836 0.99672131]]\n",
      "\n",
      " [[0.71147541 0.8557377  0.93770492]\n",
      "  [0.73114754 0.88196721 0.96065574]\n",
      "  [0.73770492 0.90163934 0.9704918 ]\n",
      "  [0.75081967 0.91147541 0.97377049]\n",
      "  [0.77377049 0.92786885 0.98360656]\n",
      "  [0.78032787 0.9442623  0.99344262]\n",
      "  [0.77377049 0.95409836 0.99672131]]]\n"
     ]
    }
   ],
   "source": [
    "# getting the condition of all voxels: are they inside the envelop or not\n",
    "env_all_vox = full_lattice.flatten()\n",
    "\n",
    "# all voxels sun access\n",
    "all_vox_sky_acc = []\n",
    "\n",
    "# v_id: voxel id in the list of only interior voxels\n",
    "v_id = 0\n",
    "\n",
    "# for all the voxels, place the interiority condition of each voxel in \"vox_in\"\n",
    "for vox_in in env_all_vox:\n",
    "    if vox_in == True:\n",
    "        # read its value of sun access and append it to the list of all voxel sun access\n",
    "        all_vox_sky_acc.append(vox_sky_acc[v_id])\n",
    "        # add one to the voxel id so the next time we read the next voxel\n",
    "        v_id += 1 \n",
    "    else:\n",
    "        # add 0.0 for its sun access\n",
    "        all_vox_sky_acc.append(0.0)\n",
    "\n",
    "# convert to array\n",
    "sky_acc_array = np.array(all_vox_sky_acc)\n",
    "\n",
    "# reshape to lattice shape\n",
    "sky_acc_array = sky_acc_array.reshape(envelope_lattice.shape)\n",
    "\n",
    "# convert to lattice\n",
    "sky_acc_lattice = tg.to_lattice(sky_acc_array, envelope_lattice)"
   ]
  },
  {
   "cell_type": "markdown",
   "metadata": {},
   "source": [
    "##### 5.2. Store shadow casting information in a Lattice"
   ]
  },
  {
   "cell_type": "code",
   "execution_count": 38,
   "metadata": {},
   "outputs": [
    {
     "name": "stdout",
     "output_type": "stream",
     "text": [
      "(11, 7, 3)\n"
     ]
    }
   ],
   "source": [
    "# getting the condition of all voxels: are they inside the envelop or not\n",
    "env_all_vox = full_lattice.flatten()\n",
    "\n",
    "# all voxels sun access\n",
    "all_vox_sky_shad_cast = []\n",
    "\n",
    "# v_id: voxel id in the list of only interior voxels\n",
    "v_id = 0\n",
    "\n",
    "# for all the voxels, place the interiority condition of each voxel in \"vox_in\"\n",
    "for vox_in in env_all_vox:\n",
    "    if vox_in == True:\n",
    "        # read its value of sun access and append it to the list of all voxel sun access\n",
    "        all_vox_sky_shad_cast.append(vox_sky_shadowing[v_id])\n",
    "        # add one to the voxel id so the next time we read the next voxel\n",
    "        v_id += 1 \n",
    "    else:\n",
    "        # add 0.0 for its sun access\n",
    "        all_vox_sky_shad_cast.append(0.0)\n",
    "\n",
    "\n",
    "# convert to array\n",
    "sky_shadcast_array = np.array(all_vox_sky_shad_cast)\n",
    "\n",
    "# reshape to lattice shape\n",
    "sky_shadcast_array = sky_shadcast_array.reshape(envelope_lattice.shape)\n",
    "\n",
    "# convert to lattice\n",
    "sky_shadcast_lattice = tg.to_lattice(sky_shadcast_array, envelope_lattice)"
   ]
  },
  {
   "cell_type": "markdown",
   "metadata": {},
   "source": [
    "### 5.3. Visualize the sun access lattice"
   ]
  },
  {
   "cell_type": "code",
   "execution_count": 39,
   "metadata": {},
   "outputs": [
    {
     "data": {
      "application/vnd.jupyter.widget-view+json": {
       "model_id": "1573387c5e5e4259bc369aa11982fff3",
       "version_major": 2,
       "version_minor": 0
      },
      "text/plain": [
       "ViewInteractiveWidget(height=768, layout=Layout(height='auto', width='100%'), width=1024)"
      ]
     },
     "metadata": {},
     "output_type": "display_data"
    },
    {
     "data": {
      "text/plain": [
       "[(785.6075686833789, 708.1911636833788, 743.2184808333789),\n",
       " (65.08283250000001, -12.333572500000002, 22.69374465),\n",
       " (0.0, 0.0, 1.0)]"
      ]
     },
     "execution_count": 39,
     "metadata": {},
     "output_type": "execute_result"
    }
   ],
   "source": [
    "# initiating the plotter\n",
    "p = pv.Plotter(notebook=True)\n",
    "\n",
    "vis_lattice = sky_acc_lattice\n",
    "# Create the spatial reference\n",
    "grid = pv.UniformGrid()\n",
    "\n",
    "# Set the grid dimensions: shape because we want to inject our values\n",
    "grid.dimensions = vis_lattice.shape\n",
    "# The bottom left corner of the data set\n",
    "grid.origin = vis_lattice.minbound\n",
    "# These are the cell sizes along each axis\n",
    "grid.spacing = vis_lattice.unit\n",
    "\n",
    "# Add the data values to the cell data\n",
    "grid.point_arrays[\"Sky Access\"] = vis_lattice.flatten(order=\"F\")  # Flatten the Lattice\n",
    "\n",
    "# adding the meshes\n",
    "p.add_mesh(tri_to_pv(context_mesh), opacity=0.1, style='wireframe')\n",
    "    \n",
    "# adding the volume\n",
    "opacity = np.array([0,0.6,0.6,0.6,0.6,0.6,0.6])*1.5\n",
    "p.add_volume(grid, cmap=\"coolwarm\", clim=[0.0, 1.0],opacity=opacity, shade=True)\n",
    "\n",
    "# plotting\n",
    "p.show(use_ipyvtk=True)"
   ]
  },
  {
   "cell_type": "markdown",
   "metadata": {},
   "source": [
    "###  Visualize the shadow casting lattice"
   ]
  },
  {
   "cell_type": "code",
   "execution_count": 40,
   "metadata": {
    "scrolled": true
   },
   "outputs": [
    {
     "data": {
      "application/vnd.jupyter.widget-view+json": {
       "model_id": "834235b201164a99b3c2c4c7d11c879c",
       "version_major": 2,
       "version_minor": 0
      },
      "text/plain": [
       "ViewInteractiveWidget(height=768, layout=Layout(height='auto', width='100%'), width=1024)"
      ]
     },
     "metadata": {},
     "output_type": "display_data"
    },
    {
     "data": {
      "text/plain": [
       "[(785.6075686833789, 708.1911636833788, 743.2184808333789),\n",
       " (65.08283250000001, -12.333572500000002, 22.69374465),\n",
       " (0.0, 0.0, 1.0)]"
      ]
     },
     "execution_count": 40,
     "metadata": {},
     "output_type": "execute_result"
    }
   ],
   "source": [
    "# initiating the plotter\n",
    "p = pv.Plotter(notebook=True)\n",
    "\n",
    "vis_lattice = sky_shadcast_lattice\n",
    "# Create the spatial reference\n",
    "grid = pv.UniformGrid()\n",
    "\n",
    "# Set the grid dimensions: shape because we want to inject our values\n",
    "grid.dimensions = vis_lattice.shape\n",
    "# The bottom left corner of the data set\n",
    "grid.origin = vis_lattice.minbound\n",
    "# These are the cell sizes along each axis\n",
    "grid.spacing = vis_lattice.unit\n",
    "\n",
    "# Add the data values to the cell data\n",
    "grid.point_arrays[\"Skylight Blocking\"] = vis_lattice.flatten(order=\"F\")  # Flatten the Lattice\n",
    "\n",
    "# adding the meshes\n",
    "p.add_mesh(tri_to_pv(context_mesh), opacity=0.1, style='wireframe')\n",
    "    \n",
    "# adding the volume\n",
    "opacity = np.array([0,0.6,0.6,0.6,0.6,0.6,0.6])*1.5\n",
    "p.add_volume(grid, cmap=\"coolwarm\", clim=[0., 1.0],opacity=opacity, shade=True)\n",
    "\n",
    "# plotting\n",
    "p.show(use_ipyvtk=True)"
   ]
  },
  {
   "cell_type": "markdown",
   "metadata": {},
   "source": [
    "# 5.4 interpolation"
   ]
  },
  {
   "cell_type": "markdown",
   "metadata": {},
   "source": [
    "### interpolation sky factor"
   ]
  },
  {
   "cell_type": "code",
   "execution_count": 41,
   "metadata": {},
   "outputs": [],
   "source": [
    "def interpolate(info_lowres, base_highres):\n",
    "    # line spaces\n",
    "    x_space = np.linspace(info_lowres.minbound[0], info_lowres.maxbound[0],info_lowres.shape[0])\n",
    "    y_space = np.linspace(info_lowres.minbound[1], info_lowres.maxbound[1],info_lowres.shape[1])\n",
    "    z_space = np.linspace(info_lowres.minbound[2], info_lowres.maxbound[2],info_lowres.shape[2])\n",
    "\n",
    "    # interpolation function\n",
    "    interpolating_function = RegularGridInterpolator((x_space, y_space, z_space), info_lowres, bounds_error=False, fill_value=None)\n",
    "\n",
    "    # high_res lattice\n",
    "    envelope_lattice = base_highres + 1\n",
    "\n",
    "    # sample points\n",
    "    sample_points = envelope_lattice.centroids\n",
    "\n",
    "    # interpolation\n",
    "    interpolated_values = interpolating_function(sample_points)\n",
    "\n",
    "    # lattice construction\n",
    "    info_highres = tg.to_lattice(interpolated_values.reshape(base_highres.shape), base_highres)\n",
    "\n",
    "    # nulling the unavailable cells\n",
    "    info_highres *= base_highres\n",
    "\n",
    "    return info_highres"
   ]
  },
  {
   "cell_type": "code",
   "execution_count": 42,
   "metadata": {},
   "outputs": [],
   "source": [
    "#interpolate the lattice over highres\n",
    "sky_acc_highres = interpolate(sky_acc_lattice, avail_lattice_highres)"
   ]
  },
  {
   "cell_type": "markdown",
   "metadata": {},
   "source": [
    "### interpolation sky blocking factor"
   ]
  },
  {
   "cell_type": "code",
   "execution_count": 43,
   "metadata": {},
   "outputs": [],
   "source": [
    "def interpolate(info_lowres, base_highres):\n",
    "    # line spaces\n",
    "    x_space = np.linspace(info_lowres.minbound[0], info_lowres.maxbound[0],info_lowres.shape[0])\n",
    "    y_space = np.linspace(info_lowres.minbound[1], info_lowres.maxbound[1],info_lowres.shape[1])\n",
    "    z_space = np.linspace(info_lowres.minbound[2], info_lowres.maxbound[2],info_lowres.shape[2])\n",
    "\n",
    "    # interpolation function\n",
    "    interpolating_function = RegularGridInterpolator((x_space, y_space, z_space), info_lowres, bounds_error=False, fill_value=None)\n",
    "\n",
    "    # high_res lattice\n",
    "    envelope_lattice = base_highres + 1\n",
    "\n",
    "    # sample points\n",
    "    sample_points = envelope_lattice.centroids\n",
    "\n",
    "    # interpolation\n",
    "    interpolated_values = interpolating_function(sample_points)\n",
    "\n",
    "    # lattice construction\n",
    "    info_highres = tg.to_lattice(interpolated_values.reshape(base_highres.shape), base_highres)\n",
    "\n",
    "    # nulling the unavailable cells\n",
    "    info_highres *= base_highres\n",
    "\n",
    "    return info_highres"
   ]
  },
  {
   "cell_type": "code",
   "execution_count": 44,
   "metadata": {},
   "outputs": [],
   "source": [
    "#interpolate the lattice over highres\n",
    "sky_shadcast_highres = interpolate(sky_shadcast_lattice, avail_lattice_highres)"
   ]
  },
  {
   "cell_type": "markdown",
   "metadata": {},
   "source": [
    "### 5.5 visualize interpolation "
   ]
  },
  {
   "cell_type": "markdown",
   "metadata": {},
   "source": [
    "### Sky access interpolation"
   ]
  },
  {
   "cell_type": "code",
   "execution_count": 45,
   "metadata": {},
   "outputs": [
    {
     "data": {
      "application/vnd.jupyter.widget-view+json": {
       "model_id": "f3b021bc0eaa44df85af2b36b665a918",
       "version_major": 2,
       "version_minor": 0
      },
      "text/plain": [
       "ViewInteractiveWidget(height=768, layout=Layout(height='auto', width='100%'), width=1024)"
      ]
     },
     "metadata": {},
     "output_type": "display_data"
    },
    {
     "data": {
      "text/plain": [
       "[(785.6075686833789, 708.1911636833788, 743.2184808333789),\n",
       " (65.08283250000001, -12.333572500000002, 22.69374465),\n",
       " (0.0, 0.0, 1.0)]"
      ]
     },
     "execution_count": 45,
     "metadata": {},
     "output_type": "execute_result"
    }
   ],
   "source": [
    "# initiating the plotter\n",
    "p = pv.Plotter(notebook=True)\n",
    "\n",
    "vis_lattice = sky_acc_highres\n",
    "# Create the spatial reference\n",
    "grid = pv.UniformGrid()\n",
    "\n",
    "# Set the grid dimensions: shape because we want to inject our values\n",
    "grid.dimensions = vis_lattice.shape\n",
    "# The bottom left corner of the data set\n",
    "grid.origin = vis_lattice.minbound\n",
    "# These are the cell sizes along each axis\n",
    "grid.spacing = vis_lattice.unit\n",
    "\n",
    "# Add the data values to the cell data\n",
    "grid.point_arrays[\"Sky access Highres\"] = vis_lattice.flatten(order=\"F\")  # Flatten the Lattice\n",
    "\n",
    "# adding the meshes\n",
    "p.add_mesh(tri_to_pv(context_mesh), opacity=0.1, style='wireframe')\n",
    "    \n",
    "# adding the volume\n",
    "opacity = np.array([0,0.6,0.6,0.6,0.6,0.6,0.6])*1.5\n",
    "p.add_volume(grid, cmap=\"coolwarm\", clim=[0., 1.0],opacity=opacity, shade=True)\n",
    "\n",
    "# plotting\n",
    "p.show(use_ipyvtk=True)"
   ]
  },
  {
   "cell_type": "markdown",
   "metadata": {},
   "source": [
    "### sky view blocking interpolation "
   ]
  },
  {
   "cell_type": "code",
   "execution_count": 46,
   "metadata": {
    "scrolled": true
   },
   "outputs": [
    {
     "data": {
      "application/vnd.jupyter.widget-view+json": {
       "model_id": "5258a8e3902947d1b5606e1296f14016",
       "version_major": 2,
       "version_minor": 0
      },
      "text/plain": [
       "ViewInteractiveWidget(height=768, layout=Layout(height='auto', width='100%'), width=1024)"
      ]
     },
     "metadata": {},
     "output_type": "display_data"
    },
    {
     "data": {
      "text/plain": [
       "[(785.6075686833789, 708.1911636833788, 743.2184808333789),\n",
       " (65.08283250000001, -12.333572500000002, 22.69374465),\n",
       " (0.0, 0.0, 1.0)]"
      ]
     },
     "execution_count": 46,
     "metadata": {},
     "output_type": "execute_result"
    }
   ],
   "source": [
    "# initiating the plotter\n",
    "p = pv.Plotter(notebook=True)\n",
    "\n",
    "vis_lattice = sky_shadcast_highres\n",
    "# Create the spatial reference\n",
    "grid = pv.UniformGrid()\n",
    "\n",
    "# Set the grid dimensions: shape because we want to inject our values\n",
    "grid.dimensions = vis_lattice.shape\n",
    "# The bottom left corner of the data set\n",
    "grid.origin = vis_lattice.minbound\n",
    "# These are the cell sizes along each axis\n",
    "grid.spacing = vis_lattice.unit\n",
    "\n",
    "# Add the data values to the cell data\n",
    "grid.point_arrays[\"SkyBlocking highres\"] = vis_lattice.flatten(order=\"F\")  # Flatten the Lattice\n",
    "\n",
    "# adding the meshes\n",
    "p.add_mesh(tri_to_pv(context_mesh), opacity=0.1, style='wireframe')\n",
    "    \n",
    "# adding the volume\n",
    "opacity = np.array([0,0.6,0.6,0.6,0.6,0.6,0.6])*1.5\n",
    "p.add_volume(grid, cmap=\"coolwarm\", clim=[0., 1.0],opacity=opacity, shade=True)\n",
    "\n",
    "# plotting\n",
    "p.show(use_ipyvtk=True)"
   ]
  },
  {
   "cell_type": "markdown",
   "metadata": {},
   "source": [
    "## 6. Save Sun Access Lattice into a CSV"
   ]
  },
  {
   "cell_type": "code",
   "execution_count": 52,
   "metadata": {},
   "outputs": [],
   "source": [
    "#save the sky access latice to csv\n",
    "csv_path = os.path.relpath('../data/sky_access_highres.csv')\n",
    "sky_acc_highres.to_csv(csv_path)"
   ]
  },
  {
   "cell_type": "code",
   "execution_count": 53,
   "metadata": {},
   "outputs": [],
   "source": [
    "#save the skyblocking latice to csv\n",
    "csv_path = os.path.relpath('../data/sky_shadowcasting_highres.csv')\n",
    "sky_shadcast_highres.to_csv(csv_path)"
   ]
  },
  {
   "cell_type": "markdown",
   "metadata": {},
   "source": [
    "### Credits"
   ]
  },
  {
   "cell_type": "code",
   "execution_count": null,
   "metadata": {},
   "outputs": [],
   "source": [
    "__author__ = \"Shervin Azadi and Pirouz Nourian\"\n",
    "__editor__ = \"Siebren Meines\"\n",
    "__version__ = \"1.0\"\n",
    "__url__ = \"https://github.com/shervinazadi/spatial_computing_workshops\"\n",
    "__summary__ = \"Skylight and skylight blocking calculation\""
   ]
  }
 ],
 "metadata": {
  "kernelspec": {
   "display_name": "Python 3",
   "language": "python",
   "name": "python3"
  },
  "language_info": {
   "codemirror_mode": {
    "name": "ipython",
    "version": 3
   },
   "file_extension": ".py",
   "mimetype": "text/x-python",
   "name": "python",
   "nbconvert_exporter": "python",
   "pygments_lexer": "ipython3",
   "version": "3.8.4"
  }
 },
 "nbformat": 4,
 "nbformat_minor": 2
}
