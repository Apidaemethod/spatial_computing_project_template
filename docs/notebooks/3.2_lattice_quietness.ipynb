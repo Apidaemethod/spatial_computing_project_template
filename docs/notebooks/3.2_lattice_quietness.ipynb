{
 "cells": [
  {
   "cell_type": "markdown",
   "metadata": {},
   "source": [
    "# Noise Interpolation\n",
    "\n",
    "This script calculates the noise values throughout a building from a noise source. \n",
    "It takes as inputs a low_res and high_res version of the building, as well as a noise path, which consists of points. \n",
    "As an output it generates a quietness lattice. "
   ]
  },
  {
   "cell_type": "markdown",
   "metadata": {},
   "source": [
    "## 0. Initialization\n",
    "\n",
    "### 0.1. Load required libraries"
   ]
  },
  {
   "cell_type": "code",
   "execution_count": 1,
   "metadata": {},
   "outputs": [],
   "source": [
    "import os\n",
    "import topogenesis as tg\n",
    "import pyvista as pv\n",
    "import trimesh as tm\n",
    "import numpy as np\n",
    "import scipy as sp\n",
    "from ladybug.sunpath import Sunpath\n",
    "from scipy.interpolate import RegularGridInterpolator"
   ]
  },
  {
   "cell_type": "markdown",
   "metadata": {},
   "source": [
    "### 0.2. Load the envelope lattice as the avialbility lattice"
   ]
  },
  {
   "cell_type": "code",
   "execution_count": 2,
   "metadata": {},
   "outputs": [],
   "source": [
    "# loading the lattice from csv\n",
    "lattice_path = os.path.relpath('../data/voxelized_envelope_lowres.csv')\n",
    "avail_lattice = tg.lattice_from_csv(lattice_path)\n",
    "init_avail_lattice = tg.to_lattice(np.copy(avail_lattice), avail_lattice)"
   ]
  },
  {
   "cell_type": "markdown",
   "metadata": {},
   "source": [
    "### 0.3. Load noise sources"
   ]
  },
  {
   "cell_type": "code",
   "execution_count": 3,
   "metadata": {
    "scrolled": true
   },
   "outputs": [
    {
     "data": {
      "text/plain": [
       "array([[-122.45744603,   97.68269715,    0.        ],\n",
       "       [-121.54787169,   67.22756572,    0.        ],\n",
       "       [-120.63829735,   36.77243428,    0.        ],\n",
       "       [-119.72872301,    6.31730285,    0.        ],\n",
       "       [-118.81914868,  -24.13782858,    0.        ],\n",
       "       [-117.90957434,  -54.59296001,    0.        ],\n",
       "       [-117.        ,  -85.04809144,    0.        ],\n",
       "       [-116.09042566, -115.50322287,    0.        ],\n",
       "       [-115.18085132, -145.9583543 ,    0.        ],\n",
       "       [-114.27127699, -176.41348574,    0.        ],\n",
       "       [-113.36170265, -206.86861717,    0.        ]])"
      ]
     },
     "execution_count": 3,
     "metadata": {},
     "output_type": "execute_result"
    }
   ],
   "source": [
    "# loading noise points from CSV\n",
    "noise_source_path = os.path.relpath('../data/noise_points_2.csv')\n",
    "noise_sources = np.genfromtxt(noise_source_path, delimiter=',')\n",
    "noise_sources"
   ]
  },
  {
   "cell_type": "markdown",
   "metadata": {},
   "source": [
    "### 0.4. Visualize noise source points"
   ]
  },
  {
   "cell_type": "code",
   "execution_count": 4,
   "metadata": {},
   "outputs": [
    {
     "data": {
      "application/vnd.jupyter.widget-view+json": {
       "model_id": "c370da709725404eafbd7a1286532ce0",
       "version_major": 2,
       "version_minor": 0
      },
      "text/plain": [
       "ViewInteractiveWidget(height=768, layout=Layout(height='auto', width='100%'), width=1024)"
      ]
     },
     "metadata": {},
     "output_type": "display_data"
    },
    {
     "data": {
      "text/plain": [
       "[(430.5979628079493, 379.73372581089836, 454.3266858210055),\n",
       " (-3.7287230130562534, -54.59296001010717, 20.0),\n",
       " (0.0, 0.0, 1.0)]"
      ]
     },
     "execution_count": 4,
     "metadata": {},
     "output_type": "execute_result"
    }
   ],
   "source": [
    "# initiating the plotter\n",
    "p = pv.Plotter(notebook=True)\n",
    "\n",
    "# adding the avilability lattice\n",
    "init_avail_lattice.fast_vis(p)\n",
    "\n",
    "# adding axes\n",
    "p.add_axes()\n",
    "\n",
    "p.add_mesh(noise_sources, point_size=10)\n",
    "\n",
    "p.show(use_ipyvtk=True)"
   ]
  },
  {
   "cell_type": "markdown",
   "metadata": {},
   "source": [
    "## 1. Import Lattice (envelope)\n",
    "\n",
    "### 1.1. Load the Envelope Lattice"
   ]
  },
  {
   "cell_type": "code",
   "execution_count": 5,
   "metadata": {},
   "outputs": [],
   "source": [
    "# loading the lowres lattice from csv\n",
    "lattice_path = os.path.relpath('../data/voxelized_envelope_lowres.csv')\n",
    "envelope_lattice = tg.lattice_from_csv(lattice_path)\n",
    "\n",
    "\n",
    "# loading the highres lattice from csv\n",
    "lattice_path = os.path.relpath('../data/voxelized_envelope_highres.csv')\n",
    "avail_lattice_highres = tg.lattice_from_csv(lattice_path)\n"
   ]
  },
  {
   "cell_type": "markdown",
   "metadata": {},
   "source": [
    "## 2. Creation of Noise Field\n",
    "\n",
    "### 2.1. Computing noise lattices"
   ]
  },
  {
   "cell_type": "code",
   "execution_count": 6,
   "metadata": {
    "tags": []
   },
   "outputs": [],
   "source": [
    "# create full lattice\n",
    "full_lattice = envelope_lattice * 0 + 1\n",
    "\n",
    "# extract the coordiantes of the centroid of all voxel\n",
    "vox_centroids = full_lattice.centroids\n",
    "\n",
    "# extract voxel indices of all voxels\n",
    "vox_indices = np.array(np.where(full_lattice==1)).T\n",
    "\n",
    "# setting the noise base pressure level \n",
    "noise_base = 75.0\n",
    "\n",
    "# initializing the sum lattice of noise\n",
    "sum_noise_lats = envelope_lattice * 0.0\n",
    "\n",
    "# for each source of noise\n",
    "for noise_src in noise_sources:\n",
    "    # initialize the occupation lattice\n",
    "    dist_latice = envelope_lattice * 0.0\n",
    "\n",
    "    for cen, ind in zip(vox_centroids, vox_indices):\n",
    "        # compute the euclidian distance\n",
    "        dist_latice[tuple(ind)] = sp.spatial.distance.euclidean(cen, noise_src)\n",
    "\n",
    "    # computing the noise lattice from dist lattice\n",
    "    noise_latice = noise_base - 20 * np.log10(dist_latice) - 8\n",
    "    \n",
    "    # summing\n",
    "    sum_noise_lats += np.power(10, noise_latice / 10.0)\n",
    "\n",
    "# computing the final aggregation\n",
    "agg_noise_lats = 10 * np.log10(sum_noise_lats)"
   ]
  },
  {
   "cell_type": "markdown",
   "metadata": {},
   "source": [
    "##### 2.2. Store noise access information in a Lattice"
   ]
  },
  {
   "cell_type": "code",
   "execution_count": 7,
   "metadata": {
    "scrolled": true
   },
   "outputs": [
    {
     "data": {
      "application/vnd.jupyter.widget-view+json": {
       "model_id": "00d6e9766c84431293ac3043e6e525c7",
       "version_major": 2,
       "version_minor": 0
      },
      "text/plain": [
       "ViewInteractiveWidget(height=768, layout=Layout(height='auto', width='100%'), width=1024)"
      ]
     },
     "metadata": {},
     "output_type": "display_data"
    },
    {
     "data": {
      "text/plain": [
       "[(229.78838913964287, 134.78838913964287, 214.78838913964287),\n",
       " (35.0, -60.0, 20.0),\n",
       " (0.0, 0.0, 1.0)]"
      ]
     },
     "execution_count": 7,
     "metadata": {},
     "output_type": "execute_result"
    }
   ],
   "source": [
    "# initiating the plotter\n",
    "p = pv.Plotter(notebook=True)\n",
    "\n",
    "vis_lattice = agg_noise_lats\n",
    "\n",
    "# Create the spatial reference\n",
    "grid = pv.UniformGrid()\n",
    "\n",
    "# Set the grid dimensions: shape because we want to inject our values\n",
    "grid.dimensions = vis_lattice.shape\n",
    "# The bottom left corner of the data set\n",
    "grid.origin = vis_lattice.minbound\n",
    "# These are the cell sizes along each axis\n",
    "grid.spacing = vis_lattice.unit\n",
    "\n",
    "# Add the data values to the cell data\n",
    "grid.point_arrays[\"Noise\"] = vis_lattice.flatten(order=\"F\")  # Flatten the Lattice\n",
    "\n",
    "    \n",
    "# adding the volume\n",
    "opacity = np.array([0,0.6,0.6,0.6,0.6,0.6,0.6])*1.5\n",
    "p.add_volume(grid, cmap=\"coolwarm\" ,opacity=opacity, shade=True)\n",
    "\n",
    "# plotting\n",
    "p.show(use_ipyvtk=True)"
   ]
  },
  {
   "cell_type": "code",
   "execution_count": 8,
   "metadata": {
    "scrolled": true
   },
   "outputs": [],
   "source": [
    "#Convert the noise distaqnces to a ratio\n",
    "agg_noise_ratio_lats = 1 -  ( agg_noise_lats - np.min(agg_noise_lats)) / (np.max(agg_noise_lats) - np.min(agg_noise_lats))"
   ]
  },
  {
   "cell_type": "markdown",
   "metadata": {},
   "source": [
    "## 3. Interpolation "
   ]
  },
  {
   "cell_type": "code",
   "execution_count": 9,
   "metadata": {},
   "outputs": [],
   "source": [
    "def interpolate(info_lowres, base_highres):\n",
    "    # line spaces\n",
    "    x_space = np.linspace(info_lowres.minbound[0], info_lowres.maxbound[0],info_lowres.shape[0])\n",
    "    y_space = np.linspace(info_lowres.minbound[1], info_lowres.maxbound[1],info_lowres.shape[1])\n",
    "    z_space = np.linspace(info_lowres.minbound[2], info_lowres.maxbound[2],info_lowres.shape[2])\n",
    "\n",
    "    # interpolation function\n",
    "    interpolating_function = RegularGridInterpolator((x_space, y_space, z_space), info_lowres, bounds_error=False, fill_value=None)\n",
    "\n",
    "    # high_res lattice\n",
    "    envelope_lattice = base_highres + 1\n",
    "\n",
    "    # sample points\n",
    "    sample_points = envelope_lattice.centroids\n",
    "\n",
    "    # interpolation\n",
    "    interpolated_values = interpolating_function(sample_points)\n",
    "\n",
    "    # lattice construction\n",
    "    info_highres = tg.to_lattice(interpolated_values.reshape(base_highres.shape), base_highres)\n",
    "\n",
    "    # nulling the unavailable cells\n",
    "    info_highres *= base_highres\n",
    "\n",
    "    return info_highres"
   ]
  },
  {
   "cell_type": "code",
   "execution_count": 5,
   "metadata": {},
   "outputs": [
    {
     "ename": "NameError",
     "evalue": "name 'interpolate' is not defined",
     "output_type": "error",
     "traceback": [
      "\u001b[1;31m---------------------------------------------------------------------------\u001b[0m",
      "\u001b[1;31mNameError\u001b[0m                                 Traceback (most recent call last)",
      "\u001b[1;32m<ipython-input-5-dae8e5aa3466>\u001b[0m in \u001b[0;36m<module>\u001b[1;34m\u001b[0m\n\u001b[1;32m----> 1\u001b[1;33m \u001b[0mnoise_highres\u001b[0m \u001b[1;33m=\u001b[0m \u001b[0minterpolate\u001b[0m\u001b[1;33m(\u001b[0m\u001b[0magg_noise_ratio_lats\u001b[0m\u001b[1;33m,\u001b[0m \u001b[0mavail_lattice_highres\u001b[0m\u001b[1;33m)\u001b[0m\u001b[1;33m\u001b[0m\u001b[1;33m\u001b[0m\u001b[0m\n\u001b[0m",
      "\u001b[1;31mNameError\u001b[0m: name 'interpolate' is not defined"
     ]
    }
   ],
   "source": [
    "noise_highres = interpolate(agg_noise_ratio_lats, avail_lattice_highres)"
   ]
  },
  {
   "cell_type": "code",
   "execution_count": 16,
   "metadata": {},
   "outputs": [
    {
     "name": "stdout",
     "output_type": "stream",
     "text": [
      "True\n",
      "False\n"
     ]
    }
   ],
   "source": [
    "# load the context and the envelope\n",
    "envelope_path = os.path.relpath(\"../data/compulsory_envelope.obj\")\n",
    "context_path = os.path.relpath(\"../data/immediate_context.obj\")\n",
    "\n",
    "# load the mesh from file\n",
    "envelope_mesh = tm.load(envelope_path)\n",
    "context_mesh = tm.load(context_path)\n",
    "\n",
    "# Check if the mesh is watertight\n",
    "print(envelope_mesh.is_watertight)\n",
    "print(context_mesh.is_watertight)\n"
   ]
  },
  {
   "cell_type": "markdown",
   "metadata": {},
   "source": [
    "### 3.1. Visualize the interpolated noise"
   ]
  },
  {
   "cell_type": "code",
   "execution_count": 17,
   "metadata": {
    "scrolled": false
   },
   "outputs": [
    {
     "ename": "NameError",
     "evalue": "name 'tri_to_pv' is not defined",
     "output_type": "error",
     "traceback": [
      "\u001b[1;31m---------------------------------------------------------------------------\u001b[0m",
      "\u001b[1;31mNameError\u001b[0m                                 Traceback (most recent call last)",
      "\u001b[1;32m<ipython-input-17-a65876a558d0>\u001b[0m in \u001b[0;36m<module>\u001b[1;34m\u001b[0m\n\u001b[0;32m     18\u001b[0m \u001b[1;33m\u001b[0m\u001b[0m\n\u001b[0;32m     19\u001b[0m \u001b[1;31m# # adding the meshes\u001b[0m\u001b[1;33m\u001b[0m\u001b[1;33m\u001b[0m\u001b[1;33m\u001b[0m\u001b[0m\n\u001b[1;32m---> 20\u001b[1;33m \u001b[0mp\u001b[0m\u001b[1;33m.\u001b[0m\u001b[0madd_mesh\u001b[0m\u001b[1;33m(\u001b[0m\u001b[0mtri_to_pv\u001b[0m\u001b[1;33m(\u001b[0m\u001b[0mcontext_mesh\u001b[0m\u001b[1;33m)\u001b[0m\u001b[1;33m,\u001b[0m \u001b[0mopacity\u001b[0m\u001b[1;33m=\u001b[0m\u001b[1;36m0.1\u001b[0m\u001b[1;33m,\u001b[0m \u001b[0mstyle\u001b[0m\u001b[1;33m=\u001b[0m\u001b[1;34m'wireframe'\u001b[0m\u001b[1;33m)\u001b[0m\u001b[1;33m\u001b[0m\u001b[1;33m\u001b[0m\u001b[0m\n\u001b[0m\u001b[0;32m     21\u001b[0m \u001b[1;33m\u001b[0m\u001b[0m\n\u001b[0;32m     22\u001b[0m \u001b[1;33m\u001b[0m\u001b[0m\n",
      "\u001b[1;31mNameError\u001b[0m: name 'tri_to_pv' is not defined"
     ]
    }
   ],
   "source": [
    "# initiating the plotter\n",
    "p = pv.Plotter(notebook=True)\n",
    "\n",
    "vis_lattice = noise_highres\n",
    "# Create the spatial reference\n",
    "grid = pv.UniformGrid()\n",
    "\n",
    "# Set the grid dimensions: shape because we want to inject our values\n",
    "grid.dimensions = vis_lattice.shape\n",
    "# The bottom left corner of the data set\n",
    "grid.origin = vis_lattice.minbound\n",
    "# These are the cell sizes along each axis\n",
    "grid.spacing = vis_lattice.unit\n",
    "\n",
    "# Add the data values to the cell data\n",
    "grid.point_arrays[\"Noise Highress\"] = vis_lattice.flatten(order=\"F\")  # Flatten the Lattice\n",
    "\n",
    "\n",
    "# # adding the meshes\n",
    "p.add_mesh(tri_to_pv(context_mesh), opacity=0.1, style='wireframe')\n",
    "\n",
    "# adding the volume\n",
    "opacity = np.array([0,0.6,0.6,0.6,0.6,0.6,0.6])*1.5\n",
    "p.add_volume(grid, cmap=\"plasma\", clim=[0.0, 1],opacity=opacity, shade=True)\n",
    "\n",
    "# plotting\n",
    "p.show(use_ipyvtk=True)\n",
    "\n",
    "png_path = os.path.relpath('../screen/quietness.png')\n",
    "p.show(screenshot = png_path)"
   ]
  },
  {
   "cell_type": "markdown",
   "metadata": {},
   "source": [
    "## 4. Save Quietness Access Lattice into a CSV"
   ]
  },
  {
   "cell_type": "code",
   "execution_count": 20,
   "metadata": {},
   "outputs": [],
   "source": [
    "#select a path and a name to save the csv\n",
    "csv_path = os.path.relpath('../data/quietness_highres.csv')\n",
    "noise_highres.to_csv(csv_path)"
   ]
  },
  {
   "cell_type": "markdown",
   "metadata": {},
   "source": [
    "### Credits"
   ]
  },
  {
   "cell_type": "code",
   "execution_count": null,
   "metadata": {},
   "outputs": [],
   "source": [
    "__author__ = \"Shervin Azadi\"\n",
    "__editor__ = 'Siebren Meines'\n",
    "__license__ = \"MIT\"\n",
    "__version__ = \"1.0\"\n",
    "__url__ = \"https://github.com/shervinazadi/spatial_computing_workshops\"\n",
    "__summary__ = \"Noise interpolation calculation\""
   ]
  }
 ],
 "metadata": {
  "kernelspec": {
   "display_name": "Python 3",
   "language": "python",
   "name": "python3"
  },
  "language_info": {
   "codemirror_mode": {
    "name": "ipython",
    "version": 3
   },
   "file_extension": ".py",
   "mimetype": "text/x-python",
   "name": "python",
   "nbconvert_exporter": "python",
   "pygments_lexer": "ipython3",
   "version": "3.8.4"
  }
 },
 "nbformat": 4,
 "nbformat_minor": 2
}
